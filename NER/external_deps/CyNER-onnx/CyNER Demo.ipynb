{
 "cells": [
  {
   "cell_type": "markdown",
   "id": "c0343121",
   "metadata": {},
   "source": [
    "#### Import CyNER and get model"
   ]
  },
  {
   "cell_type": "code",
   "execution_count": 1,
   "id": "b954353d",
   "metadata": {},
   "outputs": [],
   "source": [
    "import cyner"
   ]
  },
  {
   "cell_type": "markdown",
   "id": "4749a612",
   "metadata": {},
   "source": [
    "#### Model1: Only using pretrained transformers"
   ]
  },
  {
   "cell_type": "code",
   "execution_count": 2,
   "id": "3766f0e3",
   "metadata": {},
   "outputs": [],
   "source": [
    "model1 = cyner.CyNER(transformer_model='xlm-roberta-large', use_heuristic=False, flair_model=None)"
   ]
  },
  {
   "cell_type": "code",
   "execution_count": 3,
   "id": "e4931f22",
   "metadata": {},
   "outputs": [
    {
     "name": "stdout",
     "output_type": "stream",
     "text": [
      "Proofpoint report mentions that the German-language messages were turned off once the UK messages were established, indicating a conscious effort to spread FluBot 446833e3f8b04d4c3c2d2288e456328266524e396adbfeba3769d00727481e80 in Android phones.\n"
     ]
    }
   ],
   "source": [
    "text = 'Proofpoint report mentions that the German-language messages were turned off once the UK messages were established, indicating a conscious effort to spread FluBot 446833e3f8b04d4c3c2d2288e456328266524e396adbfeba3769d00727481e80 in Android phones.'\n",
    "print(text)"
   ]
  },
  {
   "cell_type": "code",
   "execution_count": 4,
   "id": "f8f94a99",
   "metadata": {},
   "outputs": [
    {
     "name": "stderr",
     "output_type": "stream",
     "text": [
      "2022-02-15 11:48:17 INFO     *** initialize network ***\n"
     ]
    },
    {
     "name": "stdout",
     "output_type": "stream",
     "text": [
      "Mention: Proofpoint, Class: Organization, Start: 0, End: 10, Confidence: 0.82\n",
      "Mention: FluBot, Class: Malware, Start: 156, End: 162, Confidence: 0.92\n",
      "Mention: 446833e3f8b04d4c3c2d2288e456328266524e396adbfeba3769d00727481e80, Class: Indicator, Start: 163, End: 227, Confidence: 0.90\n",
      "Mention: Android, Class: System, Start: 231, End: 238, Confidence: 1.00\n"
     ]
    }
   ],
   "source": [
    "entities = model1.get_entities(text)\n",
    "\n",
    "for e in entities:\n",
    "    print(e)"
   ]
  },
  {
   "cell_type": "code",
   "execution_count": 5,
   "id": "79fcee8b",
   "metadata": {},
   "outputs": [],
   "source": [
    "del model1"
   ]
  },
  {
   "cell_type": "markdown",
   "id": "b3edc170",
   "metadata": {},
   "source": [
    "#### Model2: Using pretrained transformers and heuristics"
   ]
  },
  {
   "cell_type": "code",
   "execution_count": 6,
   "id": "a94605d5",
   "metadata": {},
   "outputs": [],
   "source": [
    "model2 = cyner.CyNER(transformer_model='xlm-roberta-large', use_heuristic=True, flair_model=None, priority='HTFS')"
   ]
  },
  {
   "cell_type": "code",
   "execution_count": 7,
   "id": "856d5fa4",
   "metadata": {},
   "outputs": [
    {
     "name": "stderr",
     "output_type": "stream",
     "text": [
      "2022-02-15 11:48:25 INFO     *** initialize network ***\n"
     ]
    },
    {
     "name": "stdout",
     "output_type": "stream",
     "text": [
      "Mention: 446833e3f8b04d4c3c2d2288e456328266524e396adbfeba3769d00727481e80, Class: SHA256, Start: 163, End: 227, Confidence: 1.00\n",
      "Mention: Proofpoint, Class: Organization, Start: 0, End: 10, Confidence: 0.82\n",
      "Mention: FluBot, Class: Malware, Start: 156, End: 162, Confidence: 0.92\n",
      "Mention: Android, Class: System, Start: 231, End: 238, Confidence: 1.00\n"
     ]
    }
   ],
   "source": [
    "entities = model2.get_entities(text)\n",
    "\n",
    "for e in entities:\n",
    "    print(e)"
   ]
  },
  {
   "cell_type": "code",
   "execution_count": 8,
   "id": "1418492c",
   "metadata": {},
   "outputs": [],
   "source": [
    "del model2"
   ]
  },
  {
   "cell_type": "markdown",
   "id": "dce0f612",
   "metadata": {},
   "source": [
    "#### Model3:  Using pretrained transformers with heuristics and Flair"
   ]
  },
  {
   "cell_type": "code",
   "execution_count": null,
   "id": "0c393f57",
   "metadata": {},
   "outputs": [],
   "source": [
    "model3 = cyner.CyNER(transformer_model='xlm-roberta-large', use_heuristic=True, flair_model='ner')"
   ]
  },
  {
   "cell_type": "code",
   "execution_count": null,
   "id": "097ab089",
   "metadata": {},
   "outputs": [],
   "source": [
    "entities = model3.get_entities(text)\n",
    "\n",
    "for e in entities:\n",
    "    print(e)"
   ]
  },
  {
   "cell_type": "code",
   "execution_count": null,
   "id": "c7f90626",
   "metadata": {},
   "outputs": [],
   "source": [
    "del model3"
   ]
  },
  {
   "cell_type": "markdown",
   "id": "95beae09",
   "metadata": {},
   "source": [
    "#### Train(finetune) transformer on user provided data"
   ]
  },
  {
   "cell_type": "code",
   "execution_count": null,
   "id": "ef41568a",
   "metadata": {},
   "outputs": [],
   "source": [
    "cfg = {'checkpoint_dir': '.ckpt',\n",
    "        'dataset': 'dataset/mitre',\n",
    "        'transformers_model': 'xlm-roberta-large',\n",
    "        'lr': 5e-6,\n",
    "        'epochs': 20,\n",
    "        'max_seq_length': 128}\n",
    "model = cyner.TransformersNER(cfg)\n",
    "model.train()"
   ]
  },
  {
   "cell_type": "code",
   "execution_count": null,
   "id": "b664b9dd",
   "metadata": {},
   "outputs": [],
   "source": []
  }
 ],
 "metadata": {
  "kernelspec": {
   "display_name": "Python 3 (ipykernel)",
   "language": "python",
   "name": "python3"
  },
  "language_info": {
   "codemirror_mode": {
    "name": "ipython",
    "version": 3
   },
   "file_extension": ".py",
   "mimetype": "text/x-python",
   "name": "python",
   "nbconvert_exporter": "python",
   "pygments_lexer": "ipython3",
   "version": "3.8.10"
  }
 },
 "nbformat": 4,
 "nbformat_minor": 5
}
